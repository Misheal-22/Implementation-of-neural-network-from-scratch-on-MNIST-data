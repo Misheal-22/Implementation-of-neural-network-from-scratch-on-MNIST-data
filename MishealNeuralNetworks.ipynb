{
  "nbformat": 4,
  "nbformat_minor": 0,
  "metadata": {
    "colab": {
      "provenance": [],
      "gpuType": "T4",
      "authorship_tag": "ABX9TyMWzVZjdancAdTvRfOLBOvY",
      "include_colab_link": true
    },
    "kernelspec": {
      "name": "python3",
      "display_name": "Python 3"
    },
    "language_info": {
      "name": "python"
    },
    "accelerator": "GPU"
  },
  "cells": [
    {
      "cell_type": "markdown",
      "metadata": {
        "id": "view-in-github",
        "colab_type": "text"
      },
      "source": [
        "<a href=\"https://colab.research.google.com/github/Misheal-22/Implementation-of-neural-network-from-scratch-on-MNIST-data/blob/main/MishealNeuralNetworks.ipynb\" target=\"_parent\"><img src=\"https://colab.research.google.com/assets/colab-badge.svg\" alt=\"Open In Colab\"/></a>"
      ]
    },
    {
      "cell_type": "code",
      "execution_count": 1,
      "metadata": {
        "colab": {
          "base_uri": "https://localhost:8080/"
        },
        "id": "VYr1LJBJ49x0",
        "outputId": "d5b02d46-5880-424d-c242-9be686b6615c"
      },
      "outputs": [
        {
          "output_type": "stream",
          "name": "stdout",
          "text": [
            "Collecting opendatasets\n",
            "  Downloading opendatasets-0.1.22-py3-none-any.whl.metadata (9.2 kB)\n",
            "Requirement already satisfied: tqdm in /usr/local/lib/python3.11/dist-packages (from opendatasets) (4.67.1)\n",
            "Requirement already satisfied: kaggle in /usr/local/lib/python3.11/dist-packages (from opendatasets) (1.7.4.5)\n",
            "Requirement already satisfied: click in /usr/local/lib/python3.11/dist-packages (from opendatasets) (8.2.1)\n",
            "Requirement already satisfied: bleach in /usr/local/lib/python3.11/dist-packages (from kaggle->opendatasets) (6.2.0)\n",
            "Requirement already satisfied: certifi>=14.05.14 in /usr/local/lib/python3.11/dist-packages (from kaggle->opendatasets) (2025.7.14)\n",
            "Requirement already satisfied: charset-normalizer in /usr/local/lib/python3.11/dist-packages (from kaggle->opendatasets) (3.4.2)\n",
            "Requirement already satisfied: idna in /usr/local/lib/python3.11/dist-packages (from kaggle->opendatasets) (3.10)\n",
            "Requirement already satisfied: protobuf in /usr/local/lib/python3.11/dist-packages (from kaggle->opendatasets) (5.29.5)\n",
            "Requirement already satisfied: python-dateutil>=2.5.3 in /usr/local/lib/python3.11/dist-packages (from kaggle->opendatasets) (2.9.0.post0)\n",
            "Requirement already satisfied: python-slugify in /usr/local/lib/python3.11/dist-packages (from kaggle->opendatasets) (8.0.4)\n",
            "Requirement already satisfied: requests in /usr/local/lib/python3.11/dist-packages (from kaggle->opendatasets) (2.32.3)\n",
            "Requirement already satisfied: setuptools>=21.0.0 in /usr/local/lib/python3.11/dist-packages (from kaggle->opendatasets) (75.2.0)\n",
            "Requirement already satisfied: six>=1.10 in /usr/local/lib/python3.11/dist-packages (from kaggle->opendatasets) (1.17.0)\n",
            "Requirement already satisfied: text-unidecode in /usr/local/lib/python3.11/dist-packages (from kaggle->opendatasets) (1.3)\n",
            "Requirement already satisfied: urllib3>=1.15.1 in /usr/local/lib/python3.11/dist-packages (from kaggle->opendatasets) (2.5.0)\n",
            "Requirement already satisfied: webencodings in /usr/local/lib/python3.11/dist-packages (from kaggle->opendatasets) (0.5.1)\n",
            "Downloading opendatasets-0.1.22-py3-none-any.whl (15 kB)\n",
            "Installing collected packages: opendatasets\n",
            "Successfully installed opendatasets-0.1.22\n"
          ]
        }
      ],
      "source": [
        "!pip install opendatasets"
      ]
    },
    {
      "cell_type": "code",
      "source": [
        "import opendatasets as od\n",
        "od.download(\"https://www.kaggle.com/competitions/digit-recognizer/data\")"
      ],
      "metadata": {
        "colab": {
          "base_uri": "https://localhost:8080/"
        },
        "id": "mEMNug6y5cdU",
        "outputId": "474fe719-9b42-4723-cb6f-ee9abef8c705"
      },
      "execution_count": 2,
      "outputs": [
        {
          "output_type": "stream",
          "name": "stdout",
          "text": [
            "Please provide your Kaggle credentials to download this dataset. Learn more: http://bit.ly/kaggle-creds\n",
            "Your Kaggle username: misheal22\n",
            "Your Kaggle Key: ··········\n",
            "Downloading digit-recognizer.zip to ./digit-recognizer\n"
          ]
        },
        {
          "output_type": "stream",
          "name": "stderr",
          "text": [
            "100%|██████████| 15.3M/15.3M [00:00<00:00, 1.20GB/s]"
          ]
        },
        {
          "output_type": "stream",
          "name": "stdout",
          "text": [
            "\n",
            "Extracting archive ./digit-recognizer/digit-recognizer.zip to ./digit-recognizer\n"
          ]
        },
        {
          "output_type": "stream",
          "name": "stderr",
          "text": [
            "\n"
          ]
        }
      ]
    },
    {
      "cell_type": "code",
      "source": [
        "import numpy as np\n",
        "import pandas as pd\n",
        "from matplotlib import pyplot as plt\n",
        "\n",
        "data = pd.read_csv('/content/digit-recognizer/train.csv')\n",
        "data = np.array(data)\n",
        "m, n = data.shape\n",
        "np.random.shuffle(data)"
      ],
      "metadata": {
        "id": "ZmgQKe9F6wGc"
      },
      "execution_count": 5,
      "outputs": []
    },
    {
      "cell_type": "code",
      "source": [
        "data_dev = data[0:1000].T\n",
        "Y_dev = data_dev[0]\n",
        "X_dev = data_dev[1:n] / 255."
      ],
      "metadata": {
        "id": "34X7-uen8E7l"
      },
      "execution_count": 6,
      "outputs": []
    },
    {
      "cell_type": "code",
      "source": [
        "data_train = data[1000:m].T\n",
        "Y_train = data_train[0]\n",
        "X_train = data_train[1:n] / 255.\n",
        "_, m_train = X_train.shape"
      ],
      "metadata": {
        "id": "zb1It4aY8Ma3"
      },
      "execution_count": 7,
      "outputs": []
    },
    {
      "cell_type": "code",
      "source": [
        "def ReLU(Z):\n",
        "    return np.maximum(Z, 0)\n",
        "\n",
        "def ReLU_deriv(Z):\n",
        "    return Z > 0\n",
        "\n",
        "def softmax(Z):\n",
        "    expZ = np.exp(Z - np.max(Z, axis=0))\n",
        "    return expZ / expZ.sum(axis=0)\n",
        "\n",
        "def one_hot(Y):\n",
        "    one_hot_Y = np.zeros((Y.size, Y.max() + 1))\n",
        "    one_hot_Y[np.arange(Y.size), Y] = 1\n",
        "    return one_hot_Y.T"
      ],
      "metadata": {
        "id": "R5rO_Ene8U-x"
      },
      "execution_count": 8,
      "outputs": []
    },
    {
      "cell_type": "code",
      "source": [
        "def init_params():\n",
        "    W1 = np.random.rand(128, 784) - 0.5\n",
        "    b1 = np.random.rand(128, 1) - 0.5\n",
        "    W2 = np.random.rand(64, 128) - 0.5\n",
        "    b2 = np.random.rand(64, 1) - 0.5\n",
        "    W3 = np.random.rand(10, 64) - 0.5\n",
        "    b3 = np.random.rand(10, 1) - 0.5\n",
        "    return W1, b1, W2, b2, W3, b3"
      ],
      "metadata": {
        "id": "0qn6yF6r8W_p"
      },
      "execution_count": 9,
      "outputs": []
    },
    {
      "cell_type": "code",
      "source": [
        "def forward_prop(W1, b1, W2, b2, W3, b3, X):\n",
        "    Z1 = W1.dot(X) + b1\n",
        "    A1 = ReLU(Z1)\n",
        "    Z2 = W2.dot(A1) + b2\n",
        "    A2 = ReLU(Z2)\n",
        "    Z3 = W3.dot(A2) + b3\n",
        "    A3 = softmax(Z3)\n",
        "    return Z1, A1, Z2, A2, Z3, A3"
      ],
      "metadata": {
        "id": "crv4xhl28ees"
      },
      "execution_count": 10,
      "outputs": []
    },
    {
      "cell_type": "code",
      "source": [
        "def backward_prop(Z1, A1, Z2, A2, Z3, A3, W1, W2, W3, X, Y):\n",
        "    one_hot_Y = one_hot(Y)\n",
        "    dZ3 = A3 - one_hot_Y\n",
        "    dW3 = 1 / m_train * dZ3.dot(A2.T)\n",
        "    db3 = 1 / m_train * np.sum(dZ3, axis=1, keepdims=True)\n",
        "\n",
        "    dZ2 = W3.T.dot(dZ3) * ReLU_deriv(Z2)\n",
        "    dW2 = 1 / m_train * dZ2.dot(A1.T)\n",
        "    db2 = 1 / m_train * np.sum(dZ2, axis=1, keepdims=True)\n",
        "\n",
        "    dZ1 = W2.T.dot(dZ2) * ReLU_deriv(Z1)\n",
        "    dW1 = 1 / m_train * dZ1.dot(X.T)\n",
        "    db1 = 1 / m_train * np.sum(dZ1, axis=1, keepdims=True)\n",
        "\n",
        "    return dW1, db1, dW2, db2, dW3, db3"
      ],
      "metadata": {
        "id": "FVoRMitk8iE-"
      },
      "execution_count": 11,
      "outputs": []
    },
    {
      "cell_type": "code",
      "source": [
        "def update_params(W1, b1, W2, b2, W3, b3, dW1, db1, dW2, db2, dW3, db3, alpha):\n",
        "    W1 -= alpha * dW1\n",
        "    b1 -= alpha * db1\n",
        "    W2 -= alpha * dW2\n",
        "    b2 -= alpha * db2\n",
        "    W3 -= alpha * dW3\n",
        "    b3 -= alpha * db3\n",
        "    return W1, b1, W2, b2, W3, b3"
      ],
      "metadata": {
        "id": "s044e9qg8mK-"
      },
      "execution_count": 12,
      "outputs": []
    },
    {
      "cell_type": "code",
      "source": [
        "def get_predictions(A3):\n",
        "    return np.argmax(A3, axis=0)\n",
        "\n",
        "def get_accuracy(predictions, Y):\n",
        "    return np.sum(predictions == Y) / Y.size"
      ],
      "metadata": {
        "id": "9zt8SL5W8qZG"
      },
      "execution_count": 13,
      "outputs": []
    },
    {
      "cell_type": "code",
      "source": [
        "def gradient_descent(X, Y, alpha, iterations):\n",
        "    W1, b1, W2, b2, W3, b3 = init_params()\n",
        "    for i in range(iterations):\n",
        "        Z1, A1, Z2, A2, Z3, A3 = forward_prop(W1, b1, W2, b2, W3, b3, X)\n",
        "        dW1, db1, dW2, db2, dW3, db3 = backward_prop(Z1, A1, Z2, A2, Z3, A3, W1, W2, W3, X, Y)\n",
        "        W1, b1, W2, b2, W3, b3 = update_params(W1, b1, W2, b2, W3, b3,\n",
        "                                               dW1, db1, dW2, db2, dW3, db3, alpha)\n",
        "\n",
        "        if i % 10 == 0:\n",
        "            predictions = get_predictions(A3)\n",
        "            acc = get_accuracy(predictions, Y)\n",
        "            print(f\"Iteration {i}: Accuracy {acc:.4f}\")\n",
        "    return W1, b1, W2, b2, W3, b3"
      ],
      "metadata": {
        "id": "JRc-63SC8vfN"
      },
      "execution_count": 14,
      "outputs": []
    },
    {
      "cell_type": "code",
      "source": [
        "W1, b1, W2, b2, W3, b3 = gradient_descent(X_train, Y_train, alpha=0.1, iterations=500)"
      ],
      "metadata": {
        "colab": {
          "base_uri": "https://localhost:8080/"
        },
        "id": "e9FBX7ej8ze5",
        "outputId": "4851816f-2e49-4f06-9444-a63b345958f7"
      },
      "execution_count": 15,
      "outputs": [
        {
          "output_type": "stream",
          "name": "stdout",
          "text": [
            "Iteration 0: Accuracy 0.1071\n",
            "Iteration 10: Accuracy 0.4849\n",
            "Iteration 20: Accuracy 0.6057\n",
            "Iteration 30: Accuracy 0.6756\n",
            "Iteration 40: Accuracy 0.7155\n",
            "Iteration 50: Accuracy 0.7479\n",
            "Iteration 60: Accuracy 0.7688\n",
            "Iteration 70: Accuracy 0.7864\n",
            "Iteration 80: Accuracy 0.7993\n",
            "Iteration 90: Accuracy 0.8104\n",
            "Iteration 100: Accuracy 0.8201\n",
            "Iteration 110: Accuracy 0.8279\n",
            "Iteration 120: Accuracy 0.8343\n",
            "Iteration 130: Accuracy 0.8408\n",
            "Iteration 140: Accuracy 0.8458\n",
            "Iteration 150: Accuracy 0.8505\n",
            "Iteration 160: Accuracy 0.8549\n",
            "Iteration 170: Accuracy 0.8591\n",
            "Iteration 180: Accuracy 0.8629\n",
            "Iteration 190: Accuracy 0.8662\n",
            "Iteration 200: Accuracy 0.8697\n",
            "Iteration 210: Accuracy 0.8728\n",
            "Iteration 220: Accuracy 0.8757\n",
            "Iteration 230: Accuracy 0.8776\n",
            "Iteration 240: Accuracy 0.8806\n",
            "Iteration 250: Accuracy 0.8832\n",
            "Iteration 260: Accuracy 0.8852\n",
            "Iteration 270: Accuracy 0.8875\n",
            "Iteration 280: Accuracy 0.8894\n",
            "Iteration 290: Accuracy 0.8913\n",
            "Iteration 300: Accuracy 0.8930\n",
            "Iteration 310: Accuracy 0.8950\n",
            "Iteration 320: Accuracy 0.8967\n",
            "Iteration 330: Accuracy 0.8984\n",
            "Iteration 340: Accuracy 0.9000\n",
            "Iteration 350: Accuracy 0.9014\n",
            "Iteration 360: Accuracy 0.9030\n",
            "Iteration 370: Accuracy 0.9039\n",
            "Iteration 380: Accuracy 0.9053\n",
            "Iteration 390: Accuracy 0.9063\n",
            "Iteration 400: Accuracy 0.9075\n",
            "Iteration 410: Accuracy 0.9087\n",
            "Iteration 420: Accuracy 0.9096\n",
            "Iteration 430: Accuracy 0.9106\n",
            "Iteration 440: Accuracy 0.9117\n",
            "Iteration 450: Accuracy 0.9126\n",
            "Iteration 460: Accuracy 0.9133\n",
            "Iteration 470: Accuracy 0.9142\n",
            "Iteration 480: Accuracy 0.9150\n",
            "Iteration 490: Accuracy 0.9156\n"
          ]
        }
      ]
    },
    {
      "cell_type": "code",
      "source": [
        "def make_predictions(X, W1, b1, W2, b2, W3, b3):\n",
        "    _, _, _, _, _, A3 = forward_prop(W1, b1, W2, b2, W3, b3, X)\n",
        "    return get_predictions(A3)\n",
        "\n",
        "def test_prediction(index, W1, b1, W2, b2, W3, b3):\n",
        "    current_image = X_train[:, index].reshape(-1, 1)\n",
        "    prediction = make_predictions(current_image, W1, b1, W2, b2, W3, b3)\n",
        "    label = Y_train[index]\n",
        "    print(\"Prediction:\", prediction[0])\n",
        "    print(\"Label:\", label)\n",
        "    plt.gray()\n",
        "    plt.imshow(current_image.reshape(28, 28) * 255, interpolation='nearest')\n",
        "    plt.show()"
      ],
      "metadata": {
        "id": "12fVH6z--lHm"
      },
      "execution_count": 16,
      "outputs": []
    },
    {
      "cell_type": "code",
      "source": [
        "test_prediction(0, W1, b1, W2, b2, W3, b3)\n",
        "test_prediction(1, W1, b1, W2, b2, W3, b3)\n",
        "test_prediction(2, W1, b1, W2, b2, W3, b3)\n",
        "test_prediction(3, W1, b1, W2, b2, W3, b3)"
      ],
      "metadata": {
        "colab": {
          "base_uri": "https://localhost:8080/",
          "height": 1000
        },
        "id": "wW3xYPEA-zmK",
        "outputId": "2d30ea85-6234-47aa-b39f-a283903acbd5"
      },
      "execution_count": 17,
      "outputs": [
        {
          "output_type": "stream",
          "name": "stdout",
          "text": [
            "Prediction: 5\n",
            "Label: 5\n"
          ]
        },
        {
          "output_type": "display_data",
          "data": {
            "text/plain": [
              "<Figure size 640x480 with 1 Axes>"
            ],
            "image/png": "[encoded data removed]"
          },
          "metadata": {}
        },
        {
          "output_type": "stream",
          "name": "stdout",
          "text": [
            "Prediction: 9\n",
            "Label: 9\n"
          ]
        },
        {
          "output_type": "display_data",
          "data": {
            "text/plain": [
              "<Figure size 640x480 with 1 Axes>"
            ],
            "image/png": "[encoded data removed]"
          },
          "metadata": {}
        },
        {
          "output_type": "stream",
          "name": "stdout",
          "text": [
            "Prediction: 0\n",
            "Label: 0\n"
          ]
        },
        {
          "output_type": "display_data",
          "data": {
            "text/plain": [
              "<Figure size 640x480 with 1 Axes>"
            ],
            "image/png": "[encoded data removed]"
          },
          "metadata": {}
        },
        {
          "output_type": "stream",
          "name": "stdout",
          "text": [
            "Prediction: 5\n",
            "Label: 5\n"
          ]
        },
        {
          "output_type": "display_data",
          "data": {
            "text/plain": [
              "<Figure size 640x480 with 1 Axes>"
            ],
            "image/png": "[encoded data removed]"
          },
          "metadata": {}
        }
      ]
    },
    {
      "cell_type": "code",
      "source": [
        "dev_predictions = make_predictions(X_dev, W1, b1, W2, b2, W3, b3)\n",
        "get_accuracy(dev_predictions, Y_dev)"
      ],
      "metadata": {
        "colab": {
          "base_uri": "https://localhost:8080/"
        },
        "id": "rF4Ba7c3ABTx",
        "outputId": "502654b0-ae9c-4f3a-c74f-ceb8ef974f0c"
      },
      "execution_count": 19,
      "outputs": [
        {
          "output_type": "execute_result",
          "data": {
            "text/plain": [
              "np.float64(0.916)"
            ]
          },
          "metadata": {},
          "execution_count": 19
        }
      ]
    }
  ]
}